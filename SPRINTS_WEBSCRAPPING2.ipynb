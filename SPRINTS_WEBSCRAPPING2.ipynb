{
 "cells": [
  {
   "cell_type": "code",
   "execution_count": null,
   "id": "506d24c1",
   "metadata": {},
   "outputs": [],
   "source": [
    "pip install selenium"
   ]
  },
  {
   "cell_type": "code",
   "execution_count": null,
   "id": "f9394d77",
   "metadata": {},
   "outputs": [],
   "source": [
    "from bs4 import BeautifulSoup as bs\n",
    "import urllib.request\n",
    "import time\n",
    "from selenium.webdriver.edge.service import Service\n",
    "from selenium.webdriver.common.by import By"
   ]
  },
  {
   "cell_type": "code",
   "execution_count": null,
   "id": "a3f9f467",
   "metadata": {},
   "outputs": [],
   "source": [
    "service = Service(executable_path='msedgedriver.exe')\n",
    "options = webdriver.EdgeOptions()\n",
    "driver = webdriver.Edge(service=service, options=options)"
   ]
  },
  {
   "cell_type": "code",
   "execution_count": null,
   "id": "9e0a199b",
   "metadata": {},
   "outputs": [],
   "source": [
    "driver.get('https://haraj.com.sa/en/tags/%D8%AD%D8%B1%D8%A7%D8%AC%20%D8%A7%D9%84%D8%B3%D9%8A%D8%A7%D8%B1%D8%A7%D8%AA')\n",
    "button = driver.find_element(By.XPATH, '//button[@data-testid=\"posts-load-more\"]')\n",
    "button.click()\n",
    "time.sleep(200)   \n",
    "html_content = driver.page_source\n",
    "bsoup = bs(html_content, 'html.parser')"
   ]
  },
  {
   "cell_type": "code",
   "execution_count": null,
   "id": "8fa56ae8",
   "metadata": {},
   "outputs": [],
   "source": [
    "cars_posts = bsoup.find_all( class_ = 'box-border items-center overflow-hidden text-ellipsis')\n"
   ]
  },
  {
   "cell_type": "code",
   "execution_count": null,
   "id": "d3b1e223",
   "metadata": {},
   "outputs": [],
   "source": [
    "hrefs = []\n",
    "for element in cars_posts:\n",
    "    a = element.find_all('a')\n",
    "    if len(hrefs) > 40:\n",
    "        break\n",
    "    for href in a:\n",
    "        hrefs.append('https://haraj.com.sa'+href.get('href'))"
   ]
  },
  {
   "cell_type": "code",
   "execution_count": null,
   "id": "e80a0092",
   "metadata": {},
   "outputs": [],
   "source": [
    "posts = []\n",
    "\n",
    "for i in range(len(hrefs)):\n",
    "    src = urllib.request.urlopen(hrefs[i]).read()\n",
    "    bsoup = bs(src, 'html.parser')\n",
    "    posts.append((bsoup.find_all('h1')[0].text, \n",
    "                 bsoup.find_all('span', class_ = 'city')[0].text, \n",
    "                 bsoup.find_all('a', class_ = 'flex min-h-[24px] max-w-[14ch] items-center overflow-hidden text-text-primary sm:max-w-full')[0].text,\n",
    "                 bsoup.find_all('article')[0].text.replace('\\n', ' ')))   \n",
    "posts"
   ]
  }
 ],
 "metadata": {
  "kernelspec": {
   "display_name": "Python 3 (ipykernel)",
   "language": "python",
   "name": "python3"
  },
  "language_info": {
   "codemirror_mode": {
    "name": "ipython",
    "version": 3
   },
   "file_extension": ".py",
   "mimetype": "text/x-python",
   "name": "python",
   "nbconvert_exporter": "python",
   "pygments_lexer": "ipython3",
   "version": "3.11.4"
  }
 },
 "nbformat": 4,
 "nbformat_minor": 5
}
